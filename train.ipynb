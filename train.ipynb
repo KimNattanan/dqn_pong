{
 "cells": [
  {
   "cell_type": "code",
   "execution_count": null,
   "metadata": {
    "vscode": {
     "languageId": "plaintext"
    }
   },
   "outputs": [],
   "source": [
    "!git clone https://github.com/KimNattanan/dqn_pong.git\n",
    "%cd dqn_pong\n",
    "!pwd"
   ]
  },
  {
   "cell_type": "code",
   "execution_count": null,
   "metadata": {
    "vscode": {
     "languageId": "plaintext"
    }
   },
   "outputs": [],
   "source": [
    "import random\n",
    "import numpy as np\n",
    "from collections import deque\n",
    "\n",
    "from game import Game\n",
    "from network import Network"
   ]
  },
  {
   "cell_type": "code",
   "execution_count": null,
   "metadata": {
    "vscode": {
     "languageId": "plaintext"
    }
   },
   "outputs": [],
   "source": [
    "WINDOW_W, WINDOW_H = 800, 480\n",
    "\n",
    "memory_size = 100000\n",
    "reward_discount_factor = 0.99\n",
    "number_of_ep = 1000000\n",
    "epsilon = 1.0\n",
    "epsilon_decay_factor = 0.999\n",
    "epsilon_min = 0.01\n",
    "batch_size = 32\n",
    "target_network_update_int = 500"
   ]
  },
  {
   "cell_type": "code",
   "execution_count": null,
   "metadata": {
    "vscode": {
     "languageId": "plaintext"
    }
   },
   "outputs": [],
   "source": [
    "game = Game(True,0.001)\n",
    "memos = [deque(maxlen=memory_size),deque(maxlen=memory_size)]\n",
    "networks = [(Network(),Network()),(Network(),Network())]\n",
    "for n1,n2 in networks:\n",
    "  n1.to('cuda')\n",
    "  n2.to('cuda')"
   ]
  },
  {
   "cell_type": "code",
   "execution_count": null,
   "metadata": {
    "vscode": {
     "languageId": "plaintext"
    }
   },
   "outputs": [],
   "source": [
    "!mkdir \"./checkpoints\""
   ]
  },
  {
   "cell_type": "code",
   "execution_count": null,
   "metadata": {
    "vscode": {
     "languageId": "plaintext"
    }
   },
   "outputs": [],
   "source": [
    "cnt = 0\n",
    "networks[0][0].train()\n",
    "networks[0][1].train()\n",
    "networks[1][0].train()\n",
    "networks[1][1].train()\n",
    "for ep in range(number_of_ep):\n",
    "  game.reset()\n",
    "  state = game.getState()\n",
    "  print(\"game {} start!\".format(ep+1))\n",
    "  while True:\n",
    "    for i in [0,1]:\n",
    "      online_network,target_network = networks[i]\n",
    "      optimal_action = np.argmax(online_network(state).detach().numpy())\n",
    "      random_action = random.randint(0,Game.ACTION_SHAPE-1)\n",
    "      action = np.random.choice([random_action,optimal_action],p=[epsilon,1-epsilon])\n",
    "      \n",
    "      if action==0: game.up(i)\n",
    "      elif action==1: game.idle(i)\n",
    "      elif action==2: game.down(i)\n",
    "\n",
    "    game.upd()\n",
    "\n",
    "    next_state = game.getState()\n",
    "    done = game.isGameOver()\n",
    "    if done:\n",
    "      if game.getReward(0)>0: print('\\t\\t\\tplr1 won')\n",
    "      else: print('\\t\\t\\tplr2 won')\n",
    "    \n",
    "    for i in [0,1]:\n",
    "      online_network,target_network = networks[i]\n",
    "      memo = memos[i]\n",
    "      reward = game.getReward(i)\n",
    "\n",
    "      memo.append([state,action,reward,next_state,done])\n",
    "      if len(memo)>=batch_size:\n",
    "        batch = np.array(random.sample(memo,batch_size),dtype=object)\n",
    "        target = batch[:,2] + reward_discount_factor*(np.max(target_network(list(batch[:,3])).detach().numpy(),axis=1))*(1-batch[:,4])\n",
    "        current_Q = target_network(list(batch[:,0])).detach().numpy()\n",
    "        current_Q[np.arange(batch_size),list(batch[:,1])] = target\n",
    "        for x,y in zip(batch[:,0],current_Q):\n",
    "          online_network.fit(x,y)\n",
    "    \n",
    "    state = next_state\n",
    "    if epsilon>epsilon_min: epsilon = epsilon*epsilon_decay_factor\n",
    "    if cnt%target_network_update_int==0:\n",
    "      for i in [0,1]:\n",
    "        online_network,target_network = networks[i]\n",
    "        target_network.load_state_dict(online_network.state_dict())\n",
    "    cnt += 1\n",
    "    if done:\n",
    "      break\n",
    "\n",
    "  if (ep+1)%100==0:\n",
    "    networks[0][0].save('./checkpoints/test_left_{}.pt'.format(ep+1))\n",
    "    networks[1][0].save('./checkpoints/test_right_{}.pt'.format(ep+1))"
   ]
  }
 ],
 "metadata": {
  "language_info": {
   "name": "python"
  }
 },
 "nbformat": 4,
 "nbformat_minor": 2
}
