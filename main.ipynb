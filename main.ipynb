{
 "cells": [
  {
   "cell_type": "code",
   "execution_count": null,
   "metadata": {
    "vscode": {
     "languageId": "plaintext"
    }
   },
   "outputs": [],
   "source": [
    "!git clone https://github.com/KimNattanan/dqn_pong.git\n",
    "%cd dqn_pong\n",
    "!pwd\n",
    "!mkdir checkpoints\n",
    "!mkdir graphs"
   ]
  },
  {
   "cell_type": "code",
   "execution_count": null,
   "metadata": {
    "vscode": {
     "languageId": "plaintext"
    }
   },
   "outputs": [],
   "source": [
    "import trainer\n",
    "\n",
    "trainer.train_bot(save_name='duel_vbot')\n",
    "trainer.train_ai(save_name='duel_vai_l',save_name2='duel_vai_r')\n",
    "trainer.train_ai_double(save_name='duel_vai_double_l',save_name2='duel_vai_double_r')\n",
    "\n",
    "trainer.train_ai(save_name='duel_vbot_20000_vai_l', save_name2='duel_vbot_20000_vai_r',\n",
    "                 checkpoint_path='./checkpoints/duel_vbot_20000.pt',\n",
    "                 checkpoint_path2='./checkpoints/duel_vbot_20000.pt',\n",
    "                 begin_ep=20001, start_epsilon=0.4,\n",
    "                 display=False)\n",
    "trainer.train_ai_double(save_name='duel_vbot_20000_vai_double_l', save_name2='duel_vbot_20000_vai_double_r',\n",
    "                        checkpoint_path='./checkpoints/duel_vbot_20000.pt',\n",
    "                        checkpoint_path2='./checkpoints/duel_vbot_20000.pt',\n",
    "                        begin_ep=20001, start_epsilon=0.4,\n",
    "                        display=False)"
   ]
  }
 ],
 "metadata": {
  "language_info": {
   "name": "python"
  }
 },
 "nbformat": 4,
 "nbformat_minor": 2
}
