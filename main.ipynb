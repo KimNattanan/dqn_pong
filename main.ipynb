{
 "cells": [
  {
   "cell_type": "code",
   "execution_count": null,
   "metadata": {
    "vscode": {
     "languageId": "plaintext"
    }
   },
   "outputs": [],
   "source": [
    "!git clone https://github.com/KimNattanan/dqn_pong.git\n",
    "%cd dqn_pong\n",
    "!pwd\n",
    "!mkdir checkpoints\n",
    "!mkdir graphs"
   ]
  },
  {
   "cell_type": "code",
   "execution_count": null,
   "metadata": {
    "vscode": {
     "languageId": "plaintext"
    }
   },
   "outputs": [],
   "source": [
    "import trainer\n",
    "\n",
    "trainer.train_bot(save_name='duel_vbot',\n",
    "                  plot_name='duel_vbot_10000',\n",
    "                  number_of_ep=10000,\n",
    "                  display=True)\n",
    "\n",
    "trainer.train_ai(save_name='duel_vbot_10000_vai_l', save_name2='duel_vbot_10000_vai_r',\n",
    "                 checkpoint_path='./checkpoints/duel_vbot_10000.pt',\n",
    "                 checkpoint_path2='./checkpoints/duel_vbot_10000.pt',\n",
    "                 plot_name='duel_vbot_10000_vai_l_20000', plot_name2='duel_vbot_10000_vai_r_20000',\n",
    "                 plot_load_name='duel_vbot_10000', plot_load_name2='duel_vbot_10000',\n",
    "                 number_of_ep=20000, begin_ep=10001, start_epsilon=0.4,\n",
    "                 display=True)\n",
    "trainer.train_ai_double(save_name='duel_vbot_10000_vai_double_l', save_name2='duel_vbot_10000_vai_double_r',\n",
    "                        checkpoint_path='./checkpoints/duel_vbot_10000.pt',\n",
    "                        checkpoint_path2='./checkpoints/duel_vbot_10000.pt',\n",
    "                        plot_name='duel_vbot_10000_vai_double_l_20000', plot_name2='duel_vbot_10000_vai_double_r_20000',\n",
    "                        plot_load_name='duel_vbot_10000', plot_load_name2='duel_vbot_10000',\n",
    "                        number_of_ep=20000,begin_ep=10001, start_epsilon=0.4,\n",
    "                        display=True)\n",
    "\n",
    "trainer.train_ai(save_name='duel_vai_l', save_name2='duel_vai_r',\n",
    "                 plot_name='duel_vai_l', plot_name2='duel_vai_r',\n",
    "                 number_of_ep=10000,\n",
    "                 display=True)\n",
    "trainer.train_ai_double(save_name='duel_vai_double_l', save_name2='duel_vai_double_r',\n",
    "                        plot_name='duel_vai_double_l', plot_name2='duel_vai_double_r',\n",
    "                        number_of_ep=10000,\n",
    "                        display=True)"
   ]
  }
 ],
 "metadata": {
  "language_info": {
   "name": "python"
  }
 },
 "nbformat": 4,
 "nbformat_minor": 2
}
